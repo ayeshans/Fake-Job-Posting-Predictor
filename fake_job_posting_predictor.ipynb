{
  "nbformat": 4,
  "nbformat_minor": 0,
  "metadata": {
    "colab": {
      "name": "jobpostings_nlp_2.ipynb",
      "provenance": [],
      "collapsed_sections": []
    },
    "kernelspec": {
      "name": "python3",
      "display_name": "Python 3"
    }
  },
  "cells": [
    {
      "cell_type": "code",
      "metadata": {
        "id": "BgwSia7d9Ceq",
        "colab_type": "code",
        "colab": {}
      },
      "source": [
        "import pandas as pd"
      ],
      "execution_count": 1,
      "outputs": []
    },
    {
      "cell_type": "code",
      "metadata": {
        "id": "-d7Y5T-97r7O",
        "colab_type": "code",
        "colab": {}
      },
      "source": [
        "from google.colab import drive\n",
        "drive.mount('/content/gdrive')"
      ],
      "execution_count": null,
      "outputs": []
    },
    {
      "cell_type": "code",
      "metadata": {
        "id": "QioYUi228AE3",
        "colab_type": "code",
        "colab": {}
      },
      "source": [
        "df = pd.read_csv(\"/content/gdrive/My Drive/Colab Notebooks/Job Postings NLP Project/fake_job_postings.csv\")"
      ],
      "execution_count": 3,
      "outputs": []
    },
    {
      "cell_type": "markdown",
      "metadata": {
        "id": "GBn_uBf-Am3D",
        "colab_type": "text"
      },
      "source": [
        "Removing rows with erroneous entries\n"
      ]
    },
    {
      "cell_type": "code",
      "metadata": {
        "id": "oj09RHvUASiR",
        "colab_type": "code",
        "colab": {
          "base_uri": "https://localhost:8080/",
          "height": 105
        },
        "outputId": "bf15c251-f2d9-4bbe-9b99-4cdbcfe30997"
      },
      "source": [
        "df['description'][14127]"
      ],
      "execution_count": 4,
      "outputs": [
        {
          "output_type": "execute_result",
          "data": {
            "application/vnd.google.colaboratory.intrinsic+json": {
              "type": "string"
            },
            "text/plain": [
              "'v\\\\:* {behavior:url(#default#VML);}o\\\\:* {behavior:url(#default#VML);}w\\\\:* {behavior:url(#default#VML);}.shape {behavior:url(#default#VML);}   800x600    Normal  0          false  false  false    EN-US  X-NONE  X-NONE                                 MicrosoftInternetExplorer4                                                                                                                                                                                                                                                                                                                            /* Style Definitions */ #URL_22932ad710cc8bab5012d10e1dc768a71064c391fef21e0fceddb0e7a66f97b6#{mso-style-name:\"Table Normal\";mso-tstyle-rowband-size:0;mso-tstyle-colband-size:0;mso-style-noshow:yes;mso-style-priority:99;mso-style-parent:\"\";mso-padding-alt:0in 5.4pt 0in 5.4pt;mso-para-margin:0in;mso-para-margin-bottom:.0001pt;mso-pagination:widow-orphan;font-size:10.0pt;font-family:\"Times New Roman\",\"serif\";}\\xa0Contracts Administrator (Fairfax, VA)\\xa0Trident Systems was founded in 1985 with one purpose in mind: to deliver innovative and affordable technology solutions for critical government and commercial needs. 25 years later, Trident continues to harness technology and provide leading-edge solutions to every military service, the Intelligence Community, and a wealth of government and industry partners. \\xa0\\xa0With customers in both federal and commercial markets, we provide leading-edge technology solutions in some of the most demanding environments in the world.\\xa0 Trident offers a fast-paced, team-oriented work environment with an exceptional compensation and benefits program.\\xa0 Currently, Trident has a Contracts Administrator position available in our Fairfax, VA location.\\xa0·\\xa0\\xa0\\xa0\\xa0\\xa0\\xa0\\xa0 Responsible for corporate contract administration for Civilian and DoD federal agency contracts.·\\xa0\\xa0\\xa0\\xa0\\xa0\\xa0\\xa0 Coordinate with technical or corporate divisions on contract review, compliance and execution. Assists in the preparation, negotiation, and administration of contracts, subcontracts, modifications, and related activities in accordance with company policies and legal requirements.\\xa0\\xa0·\\xa0\\xa0\\xa0\\xa0\\xa0\\xa0\\xa0 Support lifecycle contract and subcontract administration from pre-solicitation through post-award phases.·\\xa0\\xa0\\xa0\\xa0\\xa0\\xa0\\xa0 Work with various contract types, including but not limited to: T&amp;M, CPFF, FFP, and IDIQ·\\xa0\\xa0\\xa0\\xa0\\xa0\\xa0\\xa0 Serve as point of contact with teaming partners and government officials for contract related matters.·\\xa0\\xa0\\xa0\\xa0\\xa0\\xa0\\xa0 Responsible for Project Set-up. Review, process and distribute new contracts, updates and modifications.\\xa0\\xa0·\\xa0\\xa0\\xa0\\xa0\\xa0\\xa0\\xa0 Responsible for maintaining Deliverable\\'s Database, DD250 Tracking and other tracking systems.·\\xa0\\xa0\\xa0\\xa0\\xa0\\xa0\\xa0 Assist Divisions with contract compliance and resolving contract issues.·\\xa0\\xa0\\xa0\\xa0\\xa0\\xa0\\xa0 Aid Contract Specialist in proposal development. Work with Business Development team to respond to RFPs and to submit unsolicited proposal/quotes.·\\xa0\\xa0\\xa0\\xa0\\xa0\\xa0\\xa0 Assist in subcontractor proposal development.\\xa0\\xa0·\\xa0\\xa0\\xa0\\xa0\\xa0\\xa0\\xa0 Assist contract and subcontract closeout activities.\\xa0·\\xa0\\xa0\\xa0\\xa0\\xa0\\xa0\\xa0 Support maintenance and close-out of contract vehicles.·\\xa0\\xa0\\xa0\\xa0\\xa0\\xa0\\xa0 Initiation and Review Agreements such as NDA’s, TA’s, Consulting Agreements, Resellers Agreements.·\\xa0\\xa0\\xa0\\xa0\\xa0\\xa0\\xa0 Organize and maintain record keeping of contract documents.·\\xa0\\xa0\\xa0\\xa0\\xa0\\xa0\\xa0 Support Accounting Department with Government Property and Government Property Audits.Education/Certification: BA/BS or equivalent additional related work experience required.\\xa0Minimum Experience: 2-4 years of progressively responsible corporate contract and subcontract administration experience in federal government environment.\\xa0Knowledge, Skills, &amp; Abilities: Well-developed written and verbal communication skills.Ability to multitask and work effectively, independently and with others, ensuring timely completion of assignments and meeting established quality standards.Superior interpersonal skills, including the ability to interact in a professional manner with senior level managers and teammates during periods of high stress and tight deadlines.Strong word processing and spreadsheet computer skills using Word, Excel, PowerPoint and Access.Working knowledge of FAR, DFAR and related procurement regulations.Strong attention to detail, organizational and accuracy skills requiredAbility to readily manage rapidly shifting work priorities, multiple task assignments and have the ability to work independently.·\\xa0\\xa0\\xa0\\xa0\\xa0\\xa0\\xa0 Candidate must be able to productively interact with internal customers to identify and solve problems; identify risk situations and coordinate solutions with management.·\\xa0\\xa0\\xa0\\xa0\\xa0\\xa0\\xa0 The successful candidate must be capable of receiving a US Government security clearance.\\xa0Come join the team which appreciates originality, creativity, and innovation! \\xa0\\xa0\\xa0\\xa0\\xa0\\xa0The successful candidate must be capable of receiving a US Government security clearance.\\xa0 US Citizenship Required.\\xa0Please click here to apply.\\xa0EEO Statement: \\xa0All qualified applicants will receive consideration for employment and will not be discriminated against on the basis of disability.\\xa0 Trident Systems Incorporated is an Equal Opportunity Employer of protected Veterans and a VEVRAA Federal Contractor. Trident Systems has a desire for priority referrals of protected Veterans. #URL_693114d52e87417a7e014ac3d04653a6664f919ad6a6f8de149affcfc8f083cc#.\\xa0'"
            ]
          },
          "metadata": {
            "tags": []
          },
          "execution_count": 4
        }
      ]
    },
    {
      "cell_type": "code",
      "metadata": {
        "id": "lt44la2tB9Fa",
        "colab_type": "code",
        "colab": {
          "base_uri": "https://localhost:8080/",
          "height": 139
        },
        "outputId": "3a87126f-b004-409a-a4b0-731194c570b7"
      },
      "source": [
        "df['description'][1574]"
      ],
      "execution_count": 5,
      "outputs": [
        {
          "output_type": "execute_result",
          "data": {
            "application/vnd.google.colaboratory.intrinsic+json": {
              "type": "string"
            },
            "text/plain": [
              "'DEPARTMENT:\\xa0 \\xa0\\xa0\\xa0\\xa0MaintenanceREPORTS TO:\\xa0\\xa0\\xa0\\xa0\\xa0\\xa0 Maintenance ManagerLOCATION:\\xa0\\xa0\\xa0\\xa0\\xa0\\xa0\\xa0\\xa0\\xa0\\xa0 Niagara Falls, NYPOSITIONS:\\xa0\\xa0\\xa0\\xa0\\xa0\\xa0\\xa0\\xa0\\xa0 Maintenance MechanicAbout us: Niacet is a leading producer of organic salts, including propionates and acetates, serving the Food, Pharmaceutical and Technical industries. With two longstanding and fully automated manufacturing sites, located in Niagara Falls, NY USA, and Tiel, The Netherlands, Niacet offers world-class quality products to a global market.Our products fill vital needs in a broad range of applications that are essential to everyday life including food preservation, antibiotic formulation, dialysis treatment, energy production, and more.Maintenance Mechanic Position:Niagara Falls chemical manufacturer is looking for experienced Maintenance mechanic.\\xa0General Job duties include, but are not limited to:--Knowledge of process piping, autovalves and dry packaging a plus.--Must be able to work on gearboxes, agitators and pumps.--May be required to move or lift up to 50lbs.--Good oral and written communication skills, experience with use of personal computers and prior chemical plant experience preferred.--Pipefitting, machining, mechanical repairs to equipment.--Welding and brazing, building service and repairs, installation of equipment, troubleshoot equipment.--Position is a rotating shift assignment, supporting 24/7 continuous operation.New York State Journeyman certification or equivalent experience required.\\xa0We offer competitive compensation and one of the best benefit packages in the industry...'"
            ]
          },
          "metadata": {
            "tags": []
          },
          "execution_count": 5
        }
      ]
    },
    {
      "cell_type": "code",
      "metadata": {
        "id": "HGO6ha-PCvBg",
        "colab_type": "code",
        "colab": {
          "base_uri": "https://localhost:8080/",
          "height": 139
        },
        "outputId": "42594f14-2196-461f-fa81-c2dff0accfdb"
      },
      "source": [
        "df['description'][1230]"
      ],
      "execution_count": 6,
      "outputs": [
        {
          "output_type": "execute_result",
          "data": {
            "application/vnd.google.colaboratory.intrinsic+json": {
              "type": "string"
            },
            "text/plain": [
              "'We currently have a vacancy for \\xa0JAVA/J2EE developer fluent in English, to offer his/her services as an expert who will be based in Brussels. The work will be carried out either in the company’s premises or on site at the customer premises. In the context of the first assignment, the successful candidate will be integrated into the development team of the company that will closely cooperate with a major client’s IT team on site.\\xa0Your tasks:Analysis of business processes, documentation and provision of recommendations for the following development phases;Diagnosis of software problems, provision of assistance in deploying and configuring systems, application and software modules;Prototyping and development following the design guidelines;Contribute to the continuous improvement of the GUI of Web based applications and resolve operational issues;Advise the Line Manager and the hierarchy on technological evolutions in Oracle WebLogic domain;Ensure proper project management and monitoring according to agreed methodology and tools.'"
            ]
          },
          "metadata": {
            "tags": []
          },
          "execution_count": 6
        }
      ]
    },
    {
      "cell_type": "code",
      "metadata": {
        "id": "lcbk-cKrDTZy",
        "colab_type": "code",
        "colab": {}
      },
      "source": [
        "df.drop([14127, 1574, 1230], inplace=True)"
      ],
      "execution_count": 7,
      "outputs": []
    },
    {
      "cell_type": "markdown",
      "metadata": {
        "id": "BrNCzoaBFeNG",
        "colab_type": "text"
      },
      "source": [
        "Examining the data\n"
      ]
    },
    {
      "cell_type": "code",
      "metadata": {
        "id": "eWV0HeGuFheN",
        "colab_type": "code",
        "colab": {
          "base_uri": "https://localhost:8080/",
          "height": 35
        },
        "outputId": "63971e65-91b5-402b-d6ab-9959c80b515e"
      },
      "source": [
        "fake=df['fraudulent'].sum()\n",
        "real=len(df)-fake\n",
        "print(\"real: {0}, fake: {1}\".format(fake, real))"
      ],
      "execution_count": 8,
      "outputs": [
        {
          "output_type": "stream",
          "text": [
            "real: 866, fake: 17011\n"
          ],
          "name": "stdout"
        }
      ]
    },
    {
      "cell_type": "markdown",
      "metadata": {
        "id": "d702b_DgG1RF",
        "colab_type": "text"
      },
      "source": [
        "The dataset is very unbalanced. We will attempt to balance it by having equal #s of each real and fake postings.\n"
      ]
    },
    {
      "cell_type": "code",
      "metadata": {
        "id": "wUKFJx7UIssO",
        "colab_type": "code",
        "colab": {}
      },
      "source": [
        "df = df.sample(frac=1).reset_index(drop=True)"
      ],
      "execution_count": 9,
      "outputs": []
    },
    {
      "cell_type": "code",
      "metadata": {
        "id": "H1JWREoUK7bE",
        "colab_type": "code",
        "colab": {}
      },
      "source": [
        "df=df.set_index('job_id')"
      ],
      "execution_count": 10,
      "outputs": []
    },
    {
      "cell_type": "code",
      "metadata": {
        "id": "Q0g-GFAbG7-G",
        "colab_type": "code",
        "colab": {}
      },
      "source": [
        "dropped = 0\n",
        "\n",
        "for index, row in df.iterrows():\n",
        "  if (df['fraudulent'][index] == 0) and (dropped < real-fake):\n",
        "    df.drop(index, inplace=True)\n",
        "    dropped+=1"
      ],
      "execution_count": 11,
      "outputs": []
    },
    {
      "cell_type": "code",
      "metadata": {
        "id": "GjGAejlGMoRQ",
        "colab_type": "code",
        "colab": {
          "base_uri": "https://localhost:8080/",
          "height": 35
        },
        "outputId": "6a658e8c-721a-45c8-c221-cd3639003472"
      },
      "source": [
        "fake=df['fraudulent'].sum()\n",
        "real=len(df)-fake\n",
        "print(\"real: {0}, fake: {1}\".format(fake, real))"
      ],
      "execution_count": 12,
      "outputs": [
        {
          "output_type": "stream",
          "text": [
            "real: 866, fake: 866\n"
          ],
          "name": "stdout"
        }
      ]
    },
    {
      "cell_type": "markdown",
      "metadata": {
        "id": "v0aSgln4NKQf",
        "colab_type": "text"
      },
      "source": [
        "Clean the text fields\n"
      ]
    },
    {
      "cell_type": "code",
      "metadata": {
        "id": "gDtL9mLHNNwq",
        "colab_type": "code",
        "colab": {}
      },
      "source": [
        "import re\n",
        "\n",
        "def text_tokenizer(text):\n",
        "  if not (text == \"\" or pd.isnull(text)): \n",
        "    text = re.sub(r'URL_[A-Za-z0-9]+', ' ', text)\n",
        "    return re.sub(r'[^A-Za-z0-9]+', ' ', text).lower().strip()"
      ],
      "execution_count": 13,
      "outputs": []
    },
    {
      "cell_type": "code",
      "metadata": {
        "id": "2cTt5nOMNn4C",
        "colab_type": "code",
        "colab": {
          "base_uri": "https://localhost:8080/",
          "height": 121
        },
        "outputId": "628ace66-bb0a-452f-f187-a449f0638a44"
      },
      "source": [
        "df.columns"
      ],
      "execution_count": 14,
      "outputs": [
        {
          "output_type": "execute_result",
          "data": {
            "text/plain": [
              "Index(['title', 'location', 'department', 'salary_range', 'company_profile',\n",
              "       'description', 'requirements', 'benefits', 'telecommuting',\n",
              "       'has_company_logo', 'has_questions', 'employment_type',\n",
              "       'required_experience', 'required_education', 'industry', 'function',\n",
              "       'fraudulent'],\n",
              "      dtype='object')"
            ]
          },
          "metadata": {
            "tags": []
          },
          "execution_count": 14
        }
      ]
    },
    {
      "cell_type": "code",
      "metadata": {
        "id": "ARI7E2Q-NtgJ",
        "colab_type": "code",
        "colab": {}
      },
      "source": [
        "cols = ['title', 'location', 'department', 'company_profile', 'description', 'requirements', 'benefits', 'employment_type',\n",
        "       'required_experience', 'required_education', 'industry', 'function']\n",
        "\n",
        "for col in cols:\n",
        "  for index, row in df.iterrows():\n",
        "    cleaned = text_tokenizer(df[col][index])\n",
        "    df[col] = df[col].replace(df[col][index],cleaned)"
      ],
      "execution_count": 15,
      "outputs": []
    },
    {
      "cell_type": "code",
      "metadata": {
        "id": "EdNHwIADS43a",
        "colab_type": "code",
        "colab": {}
      },
      "source": [
        "df = df.sample(frac=1).reset_index(drop=True)"
      ],
      "execution_count": 16,
      "outputs": []
    },
    {
      "cell_type": "code",
      "metadata": {
        "id": "irJMzIcjM7m7",
        "colab_type": "code",
        "colab": {}
      },
      "source": [
        "df['text'] = df['title'] + ' ' + df['location'] + ' ' + df['department'] + ' ' + df['company_profile'] + ' ' + df['description'] + ' ' + df['requirements'] + ' ' + df['benefits'] + ' ' + df['employment_type'] + ' ' + df['required_experience']+ ' ' + df['required_education'] + ' ' + df['industry'] + ' ' + df['function']"
      ],
      "execution_count": 17,
      "outputs": []
    },
    {
      "cell_type": "code",
      "metadata": {
        "id": "ruFL36evwulC",
        "colab_type": "code",
        "colab": {}
      },
      "source": [
        "df=df.drop(['location','department','company_profile','description','requirements','benefits','employment_type', 'required_experience','required_education', 'industry', 'function'], 1)"
      ],
      "execution_count": 18,
      "outputs": []
    },
    {
      "cell_type": "markdown",
      "metadata": {
        "id": "cCrVHRGKoAuz",
        "colab_type": "text"
      },
      "source": [
        "Splitting into test, train, val\n"
      ]
    },
    {
      "cell_type": "code",
      "metadata": {
        "id": "vbclt_-OoEM3",
        "colab_type": "code",
        "colab": {
          "base_uri": "https://localhost:8080/",
          "height": 35
        },
        "outputId": "e7079d40-c56e-4deb-fd31-99da89dc0156"
      },
      "source": [
        "print(\"total num of rows: {0}, train size: {1}, test size: {2}\".format(len(df), len(df)*0.8, len(df)*0.2))"
      ],
      "execution_count": 19,
      "outputs": [
        {
          "output_type": "stream",
          "text": [
            "total num of rows: 1732, train size: 1385.6000000000001, test size: 346.40000000000003\n"
          ],
          "name": "stdout"
        }
      ]
    },
    {
      "cell_type": "code",
      "metadata": {
        "id": "zFUuBL7Cowqa",
        "colab_type": "code",
        "colab": {}
      },
      "source": [
        "train = df[:1385]\n",
        "train = train.sample(frac=1).reset_index(drop=True)\n",
        "test = df[1386:]\n",
        "test = test.sample(frac=1).reset_index(drop=True)"
      ],
      "execution_count": 20,
      "outputs": []
    },
    {
      "cell_type": "code",
      "metadata": {
        "id": "JML5r61XqTnI",
        "colab_type": "code",
        "colab": {}
      },
      "source": [
        "from sklearn.feature_extraction.text import TfidfVectorizer\n",
        "# Create feature vectors\n",
        "vectorizer = TfidfVectorizer(min_df = 5,\n",
        "                             max_df = 0.8,\n",
        "                             sublinear_tf = True,\n",
        "                             use_idf = True)\n",
        "train_vectors = vectorizer.fit_transform(train['text'].values.astype('U'))\n",
        "test_vectors = vectorizer.transform(test['text'].values.astype('U'))"
      ],
      "execution_count": 21,
      "outputs": []
    },
    {
      "cell_type": "code",
      "metadata": {
        "id": "MEfy9Ysqyz5C",
        "colab_type": "code",
        "colab": {
          "base_uri": "https://localhost:8080/",
          "height": 69
        },
        "outputId": "428a1f90-de14-4fae-a922-58c2a400f685"
      },
      "source": [
        "import time\n",
        "from sklearn import svm\n",
        "from sklearn.metrics import classification_report\n",
        "\n",
        "# Perform classification with SVM, kernel=linear\n",
        "classifier_linear = svm.SVC(kernel='linear')\n",
        "t0 = time.time()\n",
        "classifier_linear.fit(train_vectors, train['fraudulent'])\n",
        "t1 = time.time()\n",
        "prediction_linear = classifier_linear.predict(test_vectors)\n",
        "t2 = time.time()\n",
        "time_linear_train = t1-t0\n",
        "time_linear_predict = t2-t1\n",
        "# results\n",
        "print(\"Training time: %fs; Prediction time: %fs\" % (time_linear_train, time_linear_predict))\n",
        "report = classification_report(test['fraudulent'], prediction_linear, output_dict=True)\n",
        "print('positive: ', report['1'])\n",
        "print('negative: ', report['0'])"
      ],
      "execution_count": 22,
      "outputs": [
        {
          "output_type": "stream",
          "text": [
            "Training time: 2.287817s; Prediction time: 0.516347s\n",
            "positive:  {'precision': 0.9807692307692307, 'recall': 0.95625, 'f1-score': 0.9683544303797469, 'support': 160}\n",
            "negative:  {'precision': 0.9631578947368421, 'recall': 0.9838709677419355, 'f1-score': 0.9734042553191489, 'support': 186}\n"
          ],
          "name": "stdout"
        }
      ]
    },
    {
      "cell_type": "code",
      "metadata": {
        "id": "udQCAUlDzc2n",
        "colab_type": "code",
        "colab": {
          "base_uri": "https://localhost:8080/",
          "height": 35
        },
        "outputId": "cfe224f0-af12-407f-b928-02cad45be5b2"
      },
      "source": [
        "import numpy as np\n",
        "np.matrix(classifier_linear.predict(test_vectors) - test['fraudulent']).sum()"
      ],
      "execution_count": 23,
      "outputs": [
        {
          "output_type": "execute_result",
          "data": {
            "text/plain": [
              "-4"
            ]
          },
          "metadata": {
            "tags": []
          },
          "execution_count": 23
        }
      ]
    },
    {
      "cell_type": "code",
      "metadata": {
        "id": "AiQGxIcU6lq1",
        "colab_type": "code",
        "colab": {
          "base_uri": "https://localhost:8080/",
          "height": 35
        },
        "outputId": "29ad3c79-59ec-47f3-a23c-9de39a77f057"
      },
      "source": [
        "fake_entry = \"Part-Time.Online Data entry operator needed. Work remotely from your location entering data for various companies and hospitals. *The job will only take 1hr of your time daily and it's between Monday and Friday or on weekend if that works best for you. *The job can be done in your free time. Send your resume and all inquiries to: bronsonsmaxwells2@gmail DOT com Skills needed Good in Excel Accuracy Basic computer knowledge Part-time Hours: 7 weekly average\"\n",
        "fake_entry = text_tokenizer(fake_entry)\n",
        "review_vector = vectorizer.transform([fake_entry])\n",
        "\n",
        "#review_vector = vectorizer.transform([review]) # vectorizing\n",
        "print(classifier_linear.predict(review_vector))"
      ],
      "execution_count": 24,
      "outputs": [
        {
          "output_type": "stream",
          "text": [
            "[0]\n"
          ],
          "name": "stdout"
        }
      ]
    },
    {
      "cell_type": "code",
      "metadata": {
        "id": "z6U46aVd9bdQ",
        "colab_type": "code",
        "colab": {
          "base_uri": "https://localhost:8080/",
          "height": 35
        },
        "outputId": "a099d192-c944-4336-b884-95333413a96c"
      },
      "source": [
        "print(\"fraudulent: {0}, real: {1}\".format(train['fraudulent'].sum(), len(train)-train['fraudulent'].sum()))"
      ],
      "execution_count": 25,
      "outputs": [
        {
          "output_type": "stream",
          "text": [
            "fraudulent: 705, real: 680\n"
          ],
          "name": "stdout"
        }
      ]
    },
    {
      "cell_type": "code",
      "metadata": {
        "id": "pknJRoD5mDgS",
        "colab_type": "code",
        "colab": {
          "base_uri": "https://localhost:8080/",
          "height": 35
        },
        "outputId": "13bb8ef5-e83a-4d0b-8edc-f14925035b39"
      },
      "source": [
        "from sklearn.externals import joblib\n",
        "joblib.dump(classifier_linear, '/content/gdrive/My Drive/Colab Notebooks/Job Postings NLP Project/model.pkl')"
      ],
      "execution_count": 30,
      "outputs": [
        {
          "output_type": "execute_result",
          "data": {
            "text/plain": [
              "['/content/gdrive/My Drive/Colab Notebooks/Job Postings NLP Project/model.pkl']"
            ]
          },
          "metadata": {
            "tags": []
          },
          "execution_count": 30
        }
      ]
    }
  ]
}